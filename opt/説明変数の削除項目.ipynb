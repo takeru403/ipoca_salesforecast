{
 "cells": [
  {
   "cell_type": "code",
   "execution_count": 2,
   "id": "3cd1c4bd-d80e-427b-afe2-28fdd31ac622",
   "metadata": {},
   "outputs": [],
   "source": [
    "import pandas as pd"
   ]
  },
  {
   "cell_type": "code",
   "execution_count": 19,
   "id": "98afec7d-08a0-4016-a08a-3a2419cc3cf8",
   "metadata": {
    "tags": []
   },
   "outputs": [
    {
     "data": {
      "text/html": [
       "<div>\n",
       "<style scoped>\n",
       "    .dataframe tbody tr th:only-of-type {\n",
       "        vertical-align: middle;\n",
       "    }\n",
       "\n",
       "    .dataframe tbody tr th {\n",
       "        vertical-align: top;\n",
       "    }\n",
       "\n",
       "    .dataframe thead th {\n",
       "        text-align: right;\n",
       "    }\n",
       "</style>\n",
       "<table border=\"1\" class=\"dataframe\">\n",
       "  <thead>\n",
       "    <tr style=\"text-align: right;\">\n",
       "      <th></th>\n",
       "      <th>店舗名</th>\n",
       "      <th>年商</th>\n",
       "      <th>レジ客数</th>\n",
       "      <th>客単価</th>\n",
       "      <th>売場面積（坪）</th>\n",
       "      <th>駐車場台数</th>\n",
       "      <th>坪単価</th>\n",
       "      <th>合計徒歩人口</th>\n",
       "      <th>総数０〜４歳</th>\n",
       "      <th>総数５〜９歳</th>\n",
       "      <th>総数１０〜１４歳</th>\n",
       "      <th>総数１５〜１９歳</th>\n",
       "      <th>総数２０〜２４歳</th>\n",
       "      <th>総数２５〜２９歳</th>\n",
       "      <th>総数３０〜３４歳</th>\n",
       "      <th>総数３５〜３９歳</th>\n",
       "      <th>総数４０〜４４歳</th>\n",
       "      <th>総数４５〜４９歳</th>\n",
       "      <th>総数５０〜５４歳</th>\n",
       "      <th>総数５５〜５９歳</th>\n",
       "      <th>総数６０〜６４歳</th>\n",
       "      <th>総数６５〜６９歳</th>\n",
       "      <th>総数７０〜７４歳</th>\n",
       "      <th>総数７５〜</th>\n",
       "    </tr>\n",
       "  </thead>\n",
       "  <tbody>\n",
       "    <tr>\n",
       "      <th>0</th>\n",
       "      <td>既存店A-2</td>\n",
       "      <td>3250441443</td>\n",
       "      <td>766937</td>\n",
       "      <td>4238.2118</td>\n",
       "      <td>2192</td>\n",
       "      <td>754</td>\n",
       "      <td>1482865.622</td>\n",
       "      <td>3328</td>\n",
       "      <td>137</td>\n",
       "      <td>129</td>\n",
       "      <td>134</td>\n",
       "      <td>134</td>\n",
       "      <td>102</td>\n",
       "      <td>158</td>\n",
       "      <td>172</td>\n",
       "      <td>190</td>\n",
       "      <td>252</td>\n",
       "      <td>231</td>\n",
       "      <td>233</td>\n",
       "      <td>223</td>\n",
       "      <td>213</td>\n",
       "      <td>248</td>\n",
       "      <td>230</td>\n",
       "      <td>542</td>\n",
       "    </tr>\n",
       "  </tbody>\n",
       "</table>\n",
       "</div>"
      ],
      "text/plain": [
       "      店舗名          年商    レジ客数        客単価  売場面積（坪）  駐車場台数          坪単価  合計徒歩人口  \\\n",
       "0  既存店A-2  3250441443  766937  4238.2118     2192    754  1482865.622    3328   \n",
       "\n",
       "   総数０〜４歳  総数５〜９歳  総数１０〜１４歳  総数１５〜１９歳  総数２０〜２４歳  総数２５〜２９歳  総数３０〜３４歳  総数３５〜３９歳  \\\n",
       "0     137     129       134       134       102       158       172       190   \n",
       "\n",
       "   総数４０〜４４歳  総数４５〜４９歳  総数５０〜５４歳  総数５５〜５９歳  総数６０〜６４歳  総数６５〜６９歳  総数７０〜７４歳  総数７５〜  \n",
       "0       252       231       233       223       213       248       230    542  "
      ]
     },
     "execution_count": 19,
     "metadata": {},
     "output_type": "execute_result"
    }
   ],
   "source": [
    "predict_data = pd.read_csv(\"予測用.csv\",index_col=0)\n",
    "predict_data.head(1)"
   ]
  },
  {
   "cell_type": "code",
   "execution_count": 46,
   "id": "67ab7837-1fff-4ce8-b3b7-ffd980ebf176",
   "metadata": {},
   "outputs": [],
   "source": [
    "predict_data_correct = predict_data.drop([\"年商\",\"レジ客数\",\"客単価\",\"総数０〜４歳\",\"総数５〜９歳\",\"総数１０〜１４歳\",\"総数１５〜１９歳\",\"総数２０〜２４歳\",\"総数２５〜２９歳\",\"総数２５〜２９歳\",\"総数３０〜３４歳\",\"総数３５〜３９歳\",\"総数４０〜４４歳\",\"総数５０〜５４歳\",\"総数５５〜５９歳\",\"総数６０〜６４歳\",\"総数６５〜６９歳\",\"総数７０〜７４歳\",\"総数７５〜\"],axis=1)\n",
    "predict_data_correct.to_csv(\"説明変数の数が同じ.csv\")"
   ]
  },
  {
   "cell_type": "code",
   "execution_count": 48,
   "id": "90ecf9ca-ab41-44a1-b261-f18587346daf",
   "metadata": {},
   "outputs": [
    {
     "data": {
      "text/html": [
       "<div>\n",
       "<style scoped>\n",
       "    .dataframe tbody tr th:only-of-type {\n",
       "        vertical-align: middle;\n",
       "    }\n",
       "\n",
       "    .dataframe tbody tr th {\n",
       "        vertical-align: top;\n",
       "    }\n",
       "\n",
       "    .dataframe thead th {\n",
       "        text-align: right;\n",
       "    }\n",
       "</style>\n",
       "<table border=\"1\" class=\"dataframe\">\n",
       "  <thead>\n",
       "    <tr style=\"text-align: right;\">\n",
       "      <th></th>\n",
       "      <th>店舗名</th>\n",
       "      <th>売場面積（坪）</th>\n",
       "      <th>駐車場台数</th>\n",
       "      <th>坪単価</th>\n",
       "      <th>合計徒歩人口</th>\n",
       "      <th>総数４５〜４９歳</th>\n",
       "    </tr>\n",
       "  </thead>\n",
       "  <tbody>\n",
       "    <tr>\n",
       "      <th>0</th>\n",
       "      <td>既存店A-2</td>\n",
       "      <td>2192</td>\n",
       "      <td>754</td>\n",
       "      <td>1482865.622</td>\n",
       "      <td>3328</td>\n",
       "      <td>231</td>\n",
       "    </tr>\n",
       "  </tbody>\n",
       "</table>\n",
       "</div>"
      ],
      "text/plain": [
       "      店舗名  売場面積（坪）  駐車場台数          坪単価  合計徒歩人口  総数４５〜４９歳\n",
       "0  既存店A-2     2192    754  1482865.622    3328       231"
      ]
     },
     "execution_count": 48,
     "metadata": {},
     "output_type": "execute_result"
    }
   ],
   "source": [
    "predict_data_correct.head(1)"
   ]
  },
  {
   "cell_type": "code",
   "execution_count": 51,
   "id": "6d60a0fc-b664-47ae-a8ee-c86f60a22187",
   "metadata": {},
   "outputs": [],
   "source": [
    "predict_data_loss = predict_data_correct.drop([\"売場面積（坪）\",\"総数４５〜４９歳\"],axis=1)\n",
    "predict_data_loss.to_csv(\"説明変数の数が少ない.csv\")"
   ]
  },
  {
   "cell_type": "code",
   "execution_count": 55,
   "id": "817054ef-c0ea-4cad-9d81-055a49d47d3d",
   "metadata": {},
   "outputs": [
    {
     "ename": "NameError",
     "evalue": "name 'dtype' is not defined",
     "output_type": "error",
     "traceback": [
      "\u001b[0;31m---------------------------------------------------------------------------\u001b[0m",
      "\u001b[0;31mNameError\u001b[0m                                 Traceback (most recent call last)",
      "\u001b[0;32m/tmp/ipykernel_28221/3722777879.py\u001b[0m in \u001b[0;36m<module>\u001b[0;34m\u001b[0m\n\u001b[1;32m      1\u001b[0m \u001b[0mpickle\u001b[0m \u001b[0;34m=\u001b[0m \u001b[0mpd\u001b[0m\u001b[0;34m.\u001b[0m\u001b[0mread_pickle\u001b[0m\u001b[0;34m(\u001b[0m\u001b[0;34m\"lr年商_saved_20220516.pkl\"\u001b[0m\u001b[0;34m)\u001b[0m\u001b[0;34m\u001b[0m\u001b[0;34m\u001b[0m\u001b[0m\n\u001b[0;32m----> 2\u001b[0;31m \u001b[0mdtype\u001b[0m\u001b[0;34m(\u001b[0m\u001b[0mpickle\u001b[0m\u001b[0;34m)\u001b[0m\u001b[0;34m\u001b[0m\u001b[0;34m\u001b[0m\u001b[0m\n\u001b[0m",
      "\u001b[0;31mNameError\u001b[0m: name 'dtype' is not defined"
     ]
    }
   ],
   "source": [
    "pickle = pd.read_pickle(\"lr年商_saved_20220516.pkl\") \n",
    "pickle"
   ]
  },
  {
   "cell_type": "code",
   "execution_count": null,
   "id": "f6e60684-8518-4395-9fef-61795fa5ab4e",
   "metadata": {},
   "outputs": [],
   "source": []
  }
 ],
 "metadata": {
  "kernelspec": {
   "display_name": "Python 3 (ipykernel)",
   "language": "python",
   "name": "python3"
  },
  "language_info": {
   "codemirror_mode": {
    "name": "ipython",
    "version": 3
   },
   "file_extension": ".py",
   "mimetype": "text/x-python",
   "name": "python",
   "nbconvert_exporter": "python",
   "pygments_lexer": "ipython3",
   "version": "3.7.13"
  }
 },
 "nbformat": 4,
 "nbformat_minor": 5
}
